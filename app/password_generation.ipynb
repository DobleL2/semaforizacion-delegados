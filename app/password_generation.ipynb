{
 "cells": [
  {
   "cell_type": "code",
   "execution_count": null,
   "metadata": {},
   "outputs": [
    {
     "name": "stdout",
     "output_type": "stream",
     "text": [
      "['$2b$12$YmJ8d1wl21cK4pBUkHK1z.UJAAXbhu44IsxM7EnXaf2KukqcfFyG.', '$2b$12$aUIxjx5tFskWT92M5cl8gOzKZNx9Av.Y7VzFxsTLtmbvGEyYpIY9K']\n"
     ]
    }
   ],
   "source": [
    "import streamlit_authenticator as stauth\n",
    "\n",
    "# List of passwords to hash\n",
    "passwords = [\"semaforizacion123\", \"semaforizacion456\", \"semaforizacion789\"]\n",
    "\n",
    "# Generate hashed passwords\n",
    "hashed_passwords = [stauth.Hasher.hash(password) for password in passwords]\n",
    "print(hashed_passwords)\n"
   ]
  }
 ],
 "metadata": {
  "kernelspec": {
   "display_name": ".venv",
   "language": "python",
   "name": "python3"
  },
  "language_info": {
   "codemirror_mode": {
    "name": "ipython",
    "version": 3
   },
   "file_extension": ".py",
   "mimetype": "text/x-python",
   "name": "python",
   "nbconvert_exporter": "python",
   "pygments_lexer": "ipython3",
   "version": "3.13.1"
  }
 },
 "nbformat": 4,
 "nbformat_minor": 2
}
